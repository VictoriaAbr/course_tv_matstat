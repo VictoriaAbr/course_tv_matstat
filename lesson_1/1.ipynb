{
 "cells": [
  {
   "cell_type": "code",
   "execution_count": 163,
   "metadata": {},
   "outputs": [],
   "source": [
    "import numpy as np"
   ]
  },
  {
   "cell_type": "code",
   "execution_count": 164,
   "metadata": {},
   "outputs": [
    {
     "name": "stdout",
     "output_type": "stream",
     "text": [
      "9255108\n",
      "0.09255108\n"
     ]
    }
   ],
   "source": [
    "n = 100000000 #количество подбрасываний\n",
    "a = np.random.randint(1, 7, size=n)\n",
    "b = np.random.randint(1, 7, size=n)\n",
    "c = np.random.randint(1, 7, size=n)\n",
    "k = 0 # k - сколько раз наше условие удовлетворилось\n",
    "for i in range(0, n): #смотрим условие в каждой партии\n",
    "    if a[i] + b[i] + c[i] <= 6:\n",
    "        k+=1\n",
    "print(k) #из n партий удовлетворилось условие k раз\n",
    "print(k / n) #относительная вероятность удовлетворения условия"
   ]
  },
  {
   "cell_type": "code",
   "execution_count": null,
   "metadata": {},
   "outputs": [],
   "source": [
    "# относительная вероятность - 0.09255108"
   ]
  },
  {
   "cell_type": "code",
   "execution_count": null,
   "metadata": {},
   "outputs": [],
   "source": []
  },
  {
   "cell_type": "code",
   "execution_count": null,
   "metadata": {},
   "outputs": [],
   "source": []
  }
 ],
 "metadata": {
  "kernelspec": {
   "display_name": "Python 3",
   "language": "python",
   "name": "python3"
  },
  "language_info": {
   "codemirror_mode": {
    "name": "ipython",
    "version": 3
   },
   "file_extension": ".py",
   "mimetype": "text/x-python",
   "name": "python",
   "nbconvert_exporter": "python",
   "pygments_lexer": "ipython3",
   "version": "3.8.5"
  }
 },
 "nbformat": 4,
 "nbformat_minor": 4
}
