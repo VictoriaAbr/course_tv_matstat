{
 "cells": [
  {
   "cell_type": "code",
   "execution_count": 5,
   "metadata": {},
   "outputs": [],
   "source": [
    "import numpy as np"
   ]
  },
  {
   "cell_type": "code",
   "execution_count": 6,
   "metadata": {},
   "outputs": [],
   "source": [
    "# 2. "
   ]
  },
  {
   "cell_type": "code",
   "execution_count": 7,
   "metadata": {},
   "outputs": [],
   "source": [
    "def combinations(n: int, k: int) -> int:\n",
    "    return np.math.factorial(n) // (np.math.factorial(k) * np.math.factorial(n - k))"
   ]
  },
  {
   "cell_type": "code",
   "execution_count": 8,
   "metadata": {},
   "outputs": [
    {
     "data": {
      "text/plain": [
       "69184"
      ]
     },
     "execution_count": 8,
     "metadata": {},
     "output_type": "execute_result"
    }
   ],
   "source": [
    "a = combinations(4, 1) * combinations(48, 3)\n",
    "a"
   ]
  },
  {
   "cell_type": "code",
   "execution_count": 9,
   "metadata": {},
   "outputs": [],
   "source": [
    "# 3."
   ]
  },
  {
   "cell_type": "code",
   "execution_count": 10,
   "metadata": {},
   "outputs": [
    {
     "name": "stdout",
     "output_type": "stream",
     "text": [
      "0.5727644652250146\n",
      "0.692090395480226\n"
     ]
    }
   ],
   "source": [
    "n = combinations(60, 3) #всего событий\n",
    "m = combinations(50, 3) #все вопросы знакомы\n",
    "P = m/n\n",
    "print(P) #вероятность, что все вопросы знакомы\n",
    "\n",
    "n = combinations(60, 2) #всего событий\n",
    "m = combinations(50, 2) #2 вопроса знакомо\n",
    "P = m/n\n",
    "print(P) #вероятность, что 2 вопроса знакомо"
   ]
  },
  {
   "cell_type": "code",
   "execution_count": 11,
   "metadata": {},
   "outputs": [],
   "source": [
    "# 4. "
   ]
  },
  {
   "cell_type": "code",
   "execution_count": 12,
   "metadata": {},
   "outputs": [
    {
     "data": {
      "text/plain": [
       "0.6666666666666666"
      ]
     },
     "execution_count": 12,
     "metadata": {},
     "output_type": "execute_result"
    }
   ],
   "source": [
    "P1 = 1/2 #2, 4, 6\n",
    "P2 = 1/2 #4, 5, 6\n",
    "P12 = 1/3 #4, 6\n",
    "P = P12 / P1\n",
    "P"
   ]
  },
  {
   "cell_type": "code",
   "execution_count": null,
   "metadata": {},
   "outputs": [],
   "source": [
    "#т.к. P(1|2) (условная вероятность) не равна P1, то события зависимые"
   ]
  },
  {
   "cell_type": "code",
   "execution_count": null,
   "metadata": {},
   "outputs": [],
   "source": [
    "# 5"
   ]
  },
  {
   "cell_type": "code",
   "execution_count": 37,
   "metadata": {},
   "outputs": [
    {
     "ename": "SyntaxError",
     "evalue": "invalid syntax (<ipython-input-37-60ce375b9fe2>, line 5)",
     "output_type": "error",
     "traceback": [
      "\u001b[0;36m  File \u001b[0;32m\"<ipython-input-37-60ce375b9fe2>\"\u001b[0;36m, line \u001b[0;32m5\u001b[0m\n\u001b[0;31m    P(H|A-) = 0.01 #вероятность + теста при отсутствии болезни\u001b[0m\n\u001b[0m          ^\u001b[0m\n\u001b[0;31mSyntaxError\u001b[0m\u001b[0;31m:\u001b[0m invalid syntax\n"
     ]
    }
   ],
   "source": [
    "P(A) = 0.001 #вероятность, что есть забоелвание\n",
    "P(H) #вероятность + теста\n",
    "P(A|H) #вероятность болезни при условии + теста\n",
    "P(H|A) = 0.99 #вероятность + теста при условии болезни\n",
    "P(H|A-) = 0.01 #вероятность + теста при отсутствии болезни\n",
    "P(H-|A) = 0.01 #вероятность - теста при условии болезни\n",
    "P(H-|A-) = 0.99 #вероятность - теста при отсутствии болезни\n",
    "\n",
    "P(A∣H) #искомая вероятность\n",
    "P(A∣H) = P(AH) / P(H)\n",
    "P(H|A) = P(AH) / P(A) => P(AH) = P(H|A) * P(A) = 0.99 * 0.001 = 0.00099\n",
    "P(H) = P(H|A)*P(A) + P(H|A-)*P(A-) = 0.99 * 0.001 + 0.01 * (1-0.001) = 0.01098\n",
    "\n",
    "P(A∣H) = P(AH) / P(H) = 0.00099 / 0.01098 = 0.09016393442622951\n",
    "#вероятность болезни при условии + теста = 0.09 или 9%"
   ]
  },
  {
   "cell_type": "code",
   "execution_count": null,
   "metadata": {},
   "outputs": [],
   "source": []
  },
  {
   "cell_type": "code",
   "execution_count": null,
   "metadata": {},
   "outputs": [],
   "source": []
  }
 ],
 "metadata": {
  "kernelspec": {
   "display_name": "Python 3",
   "language": "python",
   "name": "python3"
  },
  "language_info": {
   "codemirror_mode": {
    "name": "ipython",
    "version": 3
   },
   "file_extension": ".py",
   "mimetype": "text/x-python",
   "name": "python",
   "nbconvert_exporter": "python",
   "pygments_lexer": "ipython3",
   "version": "3.8.5"
  }
 },
 "nbformat": 4,
 "nbformat_minor": 4
}
