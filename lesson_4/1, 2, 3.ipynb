{
 "cells": [
  {
   "cell_type": "code",
   "execution_count": 15,
   "metadata": {},
   "outputs": [],
   "source": [
    "from scipy import stats\n",
    "import pandas as pd\n",
    "import numpy as np\n",
    "from matplotlib import pyplot as plt\n",
    "import random\n",
    "def pdf_normal(loc: float, scale: float, x: float) -> float:\n",
    "    return np.exp(- ((x - loc) ** 2) / (2 * scale ** 2)) / (scale * np.sqrt(2 * np.pi))"
   ]
  },
  {
   "cell_type": "code",
   "execution_count": 16,
   "metadata": {},
   "outputs": [],
   "source": [
    "# 1"
   ]
  },
  {
   "cell_type": "code",
   "execution_count": 17,
   "metadata": {},
   "outputs": [
    {
     "name": "stdout",
     "output_type": "stream",
     "text": [
      "среднее квадратичное отклонение = 0.03647\n",
      "доля коробок с массой > 1.1 - 0.13636618948286916\n"
     ]
    }
   ],
   "source": [
    "for scale in np.arange(0, 100, 0.00001):\n",
    "    oy = stats.norm.cdf(x=1, loc=1.06, scale=scale)\n",
    "    if (round(oy, 4)) >= 0.05:\n",
    "        print(f'среднее квадратичное отклонение = {scale}')\n",
    "        oy = stats.norm.cdf(1.1, loc=1.06, scale=0.03647)\n",
    "        print(f'доля коробок с массой > 1.1 - {1 - oy}')\n",
    "        break"
   ]
  },
  {
   "cell_type": "code",
   "execution_count": 18,
   "metadata": {},
   "outputs": [],
   "source": [
    "# 2"
   ]
  },
  {
   "cell_type": "code",
   "execution_count": 19,
   "metadata": {},
   "outputs": [],
   "source": [
    "one_loc = (12 + 14) / 2\n",
    "one_D = (14-12)**2 / 12"
   ]
  },
  {
   "cell_type": "code",
   "execution_count": 20,
   "metadata": {},
   "outputs": [
    {
     "name": "stdout",
     "output_type": "stream",
     "text": [
      "вероятсноть быть меньше 390 - 0.5\n",
      "вероятсноть быть больше 395 - 0.056923149003329065\n",
      "вероятсноть быть от 380-400 - 0.9984352103630548\n"
     ]
    }
   ],
   "source": [
    "loc = one_loc*n\n",
    "n = 30\n",
    "scale = (D * n)**(1/2)\n",
    "\n",
    "x = 390\n",
    "oy = stats.norm.cdf(x, loc=loc, scale=scale)\n",
    "print(f'вероятсноть быть меньше 390 - {oy}')\n",
    "\n",
    "x = 395\n",
    "oy = stats.norm.cdf(x, loc=loc, scale=scale)\n",
    "print(f'вероятсноть быть больше 395 - {1 - oy}')\n",
    "\n",
    "x = [380, 400]\n",
    "oy = stats.norm.cdf(x, loc=loc, scale=scale)\n",
    "print(f'вероятсноть быть от 380-400 - {(1-oy[0])*oy[1]}')"
   ]
  },
  {
   "cell_type": "code",
   "execution_count": null,
   "metadata": {},
   "outputs": [],
   "source": [
    "# 3 как-то не вышло у меня с этим заданием..."
   ]
  },
  {
   "cell_type": "code",
   "execution_count": 72,
   "metadata": {},
   "outputs": [],
   "source": [
    "n = 1000\n",
    "\n",
    "samples = np.array([np.random.sample(10) for i in range(n)])"
   ]
  },
  {
   "cell_type": "code",
   "execution_count": 73,
   "metadata": {},
   "outputs": [
    {
     "data": {
      "text/plain": [
       "(0.5009479534310525, 0.28722224161990273)"
      ]
     },
     "execution_count": 73,
     "metadata": {},
     "output_type": "execute_result"
    }
   ],
   "source": [
    "loc = samples.mean()\n",
    "std = (np.array(samples)).std(ddof=1)\n",
    "loc, s"
   ]
  },
  {
   "cell_type": "code",
   "execution_count": 78,
   "metadata": {},
   "outputs": [
    {
     "data": {
      "text/plain": [
       "[<matplotlib.lines.Line2D at 0x7f4d46123430>]"
      ]
     },
     "execution_count": 78,
     "metadata": {},
     "output_type": "execute_result"
    },
    {
     "data": {
      "image/png": "[encoded data removed]",
      "text/plain": [
       "<Figure size 432x288 with 1 Axes>"
      ]
     },
     "metadata": {
      "needs_background": "light"
     },
     "output_type": "display_data"
    }
   ],
   "source": [
    "scale = np.sqrt(std / n)\n",
    "\n",
    "x = np.linspace(0, 1, 1000)\n",
    "y = stats.norm.pdf(x, loc=loc, scale=scale)\n",
    "\n",
    "plt.hist(samples, density=True, bins=25)\n",
    "plt.plot(x, y, linestyle='dashed')"
   ]
  },
  {
   "cell_type": "code",
   "execution_count": null,
   "metadata": {},
   "outputs": [],
   "source": []
  }
 ],
 "metadata": {
  "kernelspec": {
   "display_name": "Python 3",
   "language": "python",
   "name": "python3"
  },
  "language_info": {
   "codemirror_mode": {
    "name": "ipython",
    "version": 3
   },
   "file_extension": ".py",
   "mimetype": "text/x-python",
   "name": "python",
   "nbconvert_exporter": "python",
   "pygments_lexer": "ipython3",
   "version": "3.8.5"
  }
 },
 "nbformat": 4,
 "nbformat_minor": 4
}
