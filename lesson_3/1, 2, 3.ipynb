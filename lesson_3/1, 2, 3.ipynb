{
 "cells": [
  {
   "cell_type": "code",
   "execution_count": 149,
   "metadata": {},
   "outputs": [],
   "source": [
    "# 1"
   ]
  },
  {
   "cell_type": "code",
   "execution_count": 150,
   "metadata": {},
   "outputs": [],
   "source": [
    "salary = [100, 80, 75, 77, 89, 33, 45, 25, 65, 17, 30, 230, 24, 57, 55, 70, 75, 65, 84, 90, 150]"
   ]
  },
  {
   "cell_type": "code",
   "execution_count": 151,
   "metadata": {},
   "outputs": [],
   "source": [
    "def st_dev(data_set):\n",
    "    avg_val = sum(data_set) / len(data_set)\n",
    "    inter_list = []\n",
    "    for i in data_set:\n",
    "        inter_val = (i - avg_val)**2\n",
    "        inter_list.append(inter_val)\n",
    "    return (sum(inter_list) / (len(data_set) - 1))**(1/2)"
   ]
  },
  {
   "cell_type": "code",
   "execution_count": 152,
   "metadata": {},
   "outputs": [
    {
     "name": "stdout",
     "output_type": "stream",
     "text": [
      "47.34795213553139\n"
     ]
    }
   ],
   "source": [
    "print(st_dev(salary)) #несмещённое среднее квадратичное отклонение"
   ]
  },
  {
   "cell_type": "code",
   "execution_count": 153,
   "metadata": {},
   "outputs": [
    {
     "name": "stdout",
     "output_type": "stream",
     "text": [
      "47.347952135531386\n"
     ]
    }
   ],
   "source": [
    "#проверка\n",
    "import numpy as np\n",
    "import pandas as pd\n",
    "salary_pd = pd.Series(salary)\n",
    "print((salary_pd.var(ddof=1))**(1/2))"
   ]
  },
  {
   "cell_type": "code",
   "execution_count": 154,
   "metadata": {},
   "outputs": [],
   "source": [
    "# 2"
   ]
  },
  {
   "cell_type": "code",
   "execution_count": 155,
   "metadata": {},
   "outputs": [],
   "source": [
    "def qun(data_set, q):\n",
    "    sort_data_set = sorted(data_set)\n",
    "    n=4\n",
    "    n1=1\n",
    "    if q == 25:\n",
    "        n = 4\n",
    "    elif q == 50:\n",
    "        n = 2\n",
    "    elif q == 75:\n",
    "        n = 4\n",
    "        n1 = 3\n",
    "    l = (n1 * len(sort_data_set)) // n\n",
    "    qu = sort_data_set[l] #на это число придётся квартиль\n",
    "    inter_list1 = []\n",
    "    inter_list2 = []\n",
    "    for i in sort_data_set:\n",
    "        if i <= qu:\n",
    "            inter_list1.append(i)\n",
    "        elif i >= qu:\n",
    "            inter_list2.append(i)\n",
    "    if len(data_set) % n != 0: #если нацело не делится\n",
    "        inter_list2.append(qu) #добавляем элемент, по которому прошёл квартиль\n",
    "#     print(inter_list1)\n",
    "#     print(len(inter_list1) / len(sort_salary))\n",
    "#     print(sorted(inter_list2))\n",
    "#     print(len(inter_list2) / len(sort_salary))\n",
    "    return(qu)"
   ]
  },
  {
   "cell_type": "code",
   "execution_count": 156,
   "metadata": {},
   "outputs": [
    {
     "data": {
      "text/plain": [
       "(45, 70, 84)"
      ]
     },
     "execution_count": 156,
     "metadata": {},
     "output_type": "execute_result"
    }
   ],
   "source": [
    "q1 = qun(salary, 25)\n",
    "q2 = qun(salary, 50)\n",
    "q3 = qun(salary, 75) \n",
    "q1, q2, q3 #квартили"
   ]
  },
  {
   "cell_type": "code",
   "execution_count": 157,
   "metadata": {},
   "outputs": [
    {
     "data": {
      "text/plain": [
       "39"
      ]
     },
     "execution_count": 157,
     "metadata": {},
     "output_type": "execute_result"
    }
   ],
   "source": [
    "IQR = q3 - q1\n",
    "IQR #интерквартильный размах"
   ]
  },
  {
   "cell_type": "code",
   "execution_count": 158,
   "metadata": {},
   "outputs": [
    {
     "data": {
      "text/plain": [
       "(-13.5, 142.5)"
      ]
     },
     "execution_count": 158,
     "metadata": {},
     "output_type": "execute_result"
    }
   ],
   "source": [
    "bxpl1, bxpl2 = q1 - 1.5 * IQR, q3 + 1.5* IQR\n",
    "bxpl1, bxpl2"
   ]
  },
  {
   "cell_type": "code",
   "execution_count": 159,
   "metadata": {},
   "outputs": [
    {
     "name": "stdout",
     "output_type": "stream",
     "text": [
      "[150, 230]\n",
      "2\n"
     ]
    }
   ],
   "source": [
    "outliers_list = []\n",
    "for i in sorted(salary):\n",
    "    if i < bxpl1 or i > bxpl2:\n",
    "        outliers_list.append(i)\n",
    "print(outliers_list) #список с выбросами                 \n",
    "print(len(outliers_list)) #количество не вошедших в выборку выбросов по методике boxplot  "
   ]
  },
  {
   "cell_type": "code",
   "execution_count": 160,
   "metadata": {},
   "outputs": [
    {
     "data": {
      "text/plain": [
       "0.25    45.0\n",
       "0.50    70.0\n",
       "0.75    84.0\n",
       "dtype: float64"
      ]
     },
     "execution_count": 160,
     "metadata": {},
     "output_type": "execute_result"
    }
   ],
   "source": [
    "#проверка\n",
    "salary_pd.quantile([0.25, 0.5, 0.75])"
   ]
  },
  {
   "cell_type": "code",
   "execution_count": 161,
   "metadata": {},
   "outputs": [
    {
     "data": {
      "text/plain": [
       "2"
      ]
     },
     "execution_count": 161,
     "metadata": {},
     "output_type": "execute_result"
    }
   ],
   "source": [
    "q1, q3 = salary_pd.quantile([0.25, 0.75])\n",
    "iqr = q3 - q1\n",
    "boxplot_range = (salary_pd.quantile(0.25) - 1.5 * iqr, salary_pd.quantile(0.75) + 1.5 * iqr)\n",
    "outliers = salary_pd.loc[(salary_pd < boxplot_range[0]) | (salary_pd > boxplot_range[1])]\n",
    "\n",
    "outliers.shape[0]"
   ]
  },
  {
   "cell_type": "code",
   "execution_count": 162,
   "metadata": {},
   "outputs": [
    {
     "data": {
      "text/plain": [
       "<AxesSubplot:>"
      ]
     },
     "execution_count": 162,
     "metadata": {},
     "output_type": "execute_result"
    },
    {
     "data": {
      "image/png": "[encoded data removed]",
      "text/plain": [
       "<Figure size 432x288 with 1 Axes>"
      ]
     },
     "metadata": {
      "needs_background": "light"
     },
     "output_type": "display_data"
    }
   ],
   "source": [
    "import seaborn as sns\n",
    "from matplotlib import pyplot as plt\n",
    "\n",
    "sns.boxplot(data=salary_pd, width=0.4)"
   ]
  },
  {
   "cell_type": "code",
   "execution_count": 163,
   "metadata": {},
   "outputs": [],
   "source": [
    "# 3"
   ]
  },
  {
   "cell_type": "code",
   "execution_count": 164,
   "metadata": {},
   "outputs": [
    {
     "data": {
      "text/html": [
       "<div>\n",
       "<style scoped>\n",
       "    .dataframe tbody tr th:only-of-type {\n",
       "        vertical-align: middle;\n",
       "    }\n",
       "\n",
       "    .dataframe tbody tr th {\n",
       "        vertical-align: top;\n",
       "    }\n",
       "\n",
       "    .dataframe thead th {\n",
       "        text-align: right;\n",
       "    }\n",
       "</style>\n",
       "<table border=\"1\" class=\"dataframe\">\n",
       "  <thead>\n",
       "    <tr style=\"text-align: right;\">\n",
       "      <th></th>\n",
       "      <th>факультет</th>\n",
       "      <th>количество</th>\n",
       "      <th>вероятность</th>\n",
       "    </tr>\n",
       "  </thead>\n",
       "  <tbody>\n",
       "    <tr>\n",
       "      <th>0</th>\n",
       "      <td>A</td>\n",
       "      <td>100</td>\n",
       "      <td>0.6</td>\n",
       "    </tr>\n",
       "    <tr>\n",
       "      <th>1</th>\n",
       "      <td>B</td>\n",
       "      <td>90</td>\n",
       "      <td>0.7</td>\n",
       "    </tr>\n",
       "    <tr>\n",
       "      <th>2</th>\n",
       "      <td>C</td>\n",
       "      <td>45</td>\n",
       "      <td>0.8</td>\n",
       "    </tr>\n",
       "  </tbody>\n",
       "</table>\n",
       "</div>"
      ],
      "text/plain": [
       "  факультет  количество  вероятность\n",
       "0         A         100          0.6\n",
       "1         B          90          0.7\n",
       "2         C          45          0.8"
      ]
     },
     "execution_count": 164,
     "metadata": {},
     "output_type": "execute_result"
    }
   ],
   "source": [
    "values = ['A', 'B', 'C']\n",
    "numb = np.array([100, 90, 45])\n",
    "probabilities = np.array([0.6, 0.7, 0.8])\n",
    "z = pd.DataFrame({'факультет': values, 'количество':numb, 'вероятность': probabilities})\n",
    "z.head(3)"
   ]
  },
  {
   "cell_type": "code",
   "execution_count": 165,
   "metadata": {},
   "outputs": [
    {
     "data": {
      "text/plain": [
       "[0.37735849056603776, 0.3962264150943396, 0.22641509433962265]"
      ]
     },
     "execution_count": 165,
     "metadata": {},
     "output_type": "execute_result"
    }
   ],
   "source": [
    "[i / sum(numb*probabilities) for i in numb*probabilities]"
   ]
  },
  {
   "cell_type": "code",
   "execution_count": 166,
   "metadata": {},
   "outputs": [],
   "source": [
    "#более вероятно выбрать студента из B факультета (39.6%)"
   ]
  }
 ],
 "metadata": {
  "kernelspec": {
   "display_name": "Python 3",
   "language": "python",
   "name": "python3"
  },
  "language_info": {
   "codemirror_mode": {
    "name": "ipython",
    "version": 3
   },
   "file_extension": ".py",
   "mimetype": "text/x-python",
   "name": "python",
   "nbconvert_exporter": "python",
   "pygments_lexer": "ipython3",
   "version": "3.8.5"
  }
 },
 "nbformat": 4,
 "nbformat_minor": 4
}
